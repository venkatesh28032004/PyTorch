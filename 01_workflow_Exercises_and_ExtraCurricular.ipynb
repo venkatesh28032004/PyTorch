{
  "nbformat": 4,
  "nbformat_minor": 0,
  "metadata": {
    "colab": {
      "provenance": []
    },
    "kernelspec": {
      "name": "python3",
      "display_name": "Python 3"
    },
    "language_info": {
      "name": "python"
    }
  },
  "cells": [
    {
      "cell_type": "markdown",
      "source": [
        "### Note: For all exercises, your code should be device agnostic (meaning it could run on CPU or GPU if it's available)."
      ],
      "metadata": {
        "id": "YxER-HnHbLSi"
      }
    },
    {
      "cell_type": "markdown",
      "source": [
        "### 1. Create a straight line dataset using the linear regression formula (`weight * X + bias`).\n",
        "\n",
        "* Set weight=0.3 and bias=0.9 there should be at least 100 datapoints total.\n",
        "* Split the data into 80% training, 20% testing.\n",
        "* Plot the training and testing data so it becomes visual."
      ],
      "metadata": {
        "id": "NS97p-6Kbk56"
      }
    },
    {
      "cell_type": "code",
      "source": [
        "import torch\n",
        "from torch import nn\n",
        "import matplotlib.pyplot as plt\n",
        "\n",
        "# version check for PyTorch\n",
        "torch.__version__"
      ],
      "metadata": {
        "colab": {
          "base_uri": "https://localhost:8080/",
          "height": 36
        },
        "id": "ODY8uXMmbwm4",
        "outputId": "47cc2f41-4128-4327-c44f-e5a579706d22"
      },
      "execution_count": 45,
      "outputs": [
        {
          "output_type": "execute_result",
          "data": {
            "text/plain": [
              "'2.2.1+cu121'"
            ],
            "application/vnd.google.colaboratory.intrinsic+json": {
              "type": "string"
            }
          },
          "metadata": {},
          "execution_count": 45
        }
      ]
    },
    {
      "cell_type": "code",
      "source": [
        "# Setting up the device agnostic code\n",
        "device = 'cuda' if torch.cuda.is_available() else 'cpu'\n",
        "print(f\"device: {device}\")"
      ],
      "metadata": {
        "colab": {
          "base_uri": "https://localhost:8080/"
        },
        "id": "dyuHkB8mcXjS",
        "outputId": "8d44a0d7-1fb7-4a47-87d7-330c044607e5"
      },
      "execution_count": 46,
      "outputs": [
        {
          "output_type": "stream",
          "name": "stdout",
          "text": [
            "device: cpu\n"
          ]
        }
      ]
    },
    {
      "cell_type": "code",
      "source": [
        "# Data\n",
        "\n",
        "weight = 0.3\n",
        "bias = 0.9\n",
        "\n",
        "start = 0\n",
        "end = 1\n",
        "step = 0.01\n",
        "\n",
        "X = torch.arange(start, end, step).unsqueeze(dim=1)\n",
        "y = weight * X + bias\n",
        "\n",
        "print(f'length of X and y are: {len(X)}')"
      ],
      "metadata": {
        "colab": {
          "base_uri": "https://localhost:8080/"
        },
        "id": "MP3q6c8wcwyW",
        "outputId": "ebfcf911-31b8-435d-886b-ca80079015cc"
      },
      "execution_count": 47,
      "outputs": [
        {
          "output_type": "stream",
          "name": "stdout",
          "text": [
            "length of X and y are: 100\n"
          ]
        }
      ]
    },
    {
      "cell_type": "code",
      "source": [
        "# split data\n",
        "split = int(0.8 * len(X))\n",
        "\n",
        "# training data initialization\n",
        "X_train = X[:split]\n",
        "y_train = y[:split]\n",
        "\n",
        "# Testing data initialization\n",
        "X_test = X[split:]\n",
        "y_test = y[split:]\n",
        "\n",
        "print(f'length of training data: {len(X_train)} \\nlength testing data: {len(X_test)}')"
      ],
      "metadata": {
        "colab": {
          "base_uri": "https://localhost:8080/"
        },
        "id": "ZaV06msBdlZE",
        "outputId": "d5652673-7ed2-4375-d9f2-3bf39159461a"
      },
      "execution_count": 48,
      "outputs": [
        {
          "output_type": "stream",
          "name": "stdout",
          "text": [
            "length of training data: 80 \n",
            "length testing data: 20\n"
          ]
        }
      ]
    },
    {
      "cell_type": "code",
      "source": [
        "# plot prediction module\n",
        "\n",
        "def plot_predictions(train_data = X_train,\n",
        "                     train_labels = y_train,\n",
        "                     test_data = X_test,\n",
        "                     test_labels = y_test,\n",
        "                     predictions = None):\n",
        "\n",
        "  plt.figure(figsize = (10,7))\n",
        "\n",
        "  # plot training data\n",
        "  plt.scatter(train_data, train_labels, c = 'b', s = 4, label = \"Training data\")\n",
        "\n",
        "  # plot testing data\n",
        "  plt.scatter(test_data, test_labels, c = 'g', s = 4, label = \"Required Output\")\n",
        "\n",
        "  # plot predictions (if present)\n",
        "  if predictions is not None:\n",
        "    plt.scatter(test_data, predictions, c = 'r', s = 4, label = \"Prediction\")\n",
        "\n",
        "  plt.legend(prop = {'size': 14})"
      ],
      "metadata": {
        "id": "YOqtR_1Uej9t"
      },
      "execution_count": 49,
      "outputs": []
    },
    {
      "cell_type": "code",
      "source": [
        "plot_predictions()"
      ],
      "metadata": {
        "colab": {
          "base_uri": "https://localhost:8080/",
          "height": 599
        },
        "id": "YkldZ1RngF5A",
        "outputId": "1f40b10f-3c80-4313-e50d-313753b20f41"
      },
      "execution_count": 50,
      "outputs": [
        {
          "output_type": "display_data",
          "data": {
            "text/plain": [
              "<Figure size 1000x700 with 1 Axes>"
            ],
            "image/png": "[encoded data removed]"
          },
          "metadata": {}
        }
      ]
    },
    {
      "cell_type": "markdown",
      "source": [
        "### 2. Build a PyTorch model by subclassing `nn.Module`.\n",
        "\n",
        "* Inside should be a randomly initialized `nn.Parameter()` with `requires_grad=True`, one for `weights` and one for `bias`.\n",
        "* Implement the `forward()` method to compute the linear regression function you used to create the dataset in 1.\n",
        "* Once you've constructed the model, make an instance of it and check its `state_dict()`.\n",
        "* *Note:* If you'd like to use `nn.Linear()` instead of `nn.Parameter()` you can."
      ],
      "metadata": {
        "id": "6N52CsXXgNXn"
      }
    },
    {
      "cell_type": "code",
      "source": [
        "# creating a class for linear regression and inheriting nn.Module\n",
        "class LinearRegressionModel(nn.Module):\n",
        "  def __init__(self):\n",
        "    super().__init__()\n",
        "\n",
        "    # manually initializing the random parameters\n",
        "    # self.weight = nn.Parameter(torch.randn(1,\n",
        "    #                                        requires_grad=True,\n",
        "    #                                        dtype = torch.float))\n",
        "    # self.bias = nn.Parameter(torch.randn(1,\n",
        "    #                                      requires_grad = True,\n",
        "    #                                      dtpye = torch.float))\n",
        "\n",
        "    self.linear_layer = nn.Linear(in_features = 1,\n",
        "                                  out_features = 1,)\n",
        "\n",
        "  def forward(self, x: torch.Tensor) -> torch.Tensor:\n",
        "    return self.linear_layer(x)"
      ],
      "metadata": {
        "id": "0YJ5avrRgyB6"
      },
      "execution_count": 51,
      "outputs": []
    },
    {
      "cell_type": "code",
      "source": [
        "# setting up the manual seed (not necessary)\n",
        "# torch.manual_seed(42)\n",
        "\n",
        "# instanciating the class for linear regression\n",
        "model_test = LinearRegressionModel()\n",
        "\n",
        "model_test.state_dict()\n",
        "\n",
        "model_test.eval()\n",
        "with torch.inference_mode():\n",
        "  y_predictions_before = model_test(X_test)\n",
        "y_predictions_before"
      ],
      "metadata": {
        "colab": {
          "base_uri": "https://localhost:8080/"
        },
        "id": "1XB0BVt2iPbN",
        "outputId": "b46aa566-c0eb-48a2-dfba-c11cc6b453f0"
      },
      "execution_count": 52,
      "outputs": [
        {
          "output_type": "execute_result",
          "data": {
            "text/plain": [
              "tensor([[0.8825],\n",
              "        [0.8912],\n",
              "        [0.8999],\n",
              "        [0.9086],\n",
              "        [0.9173],\n",
              "        [0.9260],\n",
              "        [0.9347],\n",
              "        [0.9434],\n",
              "        [0.9521],\n",
              "        [0.9607],\n",
              "        [0.9694],\n",
              "        [0.9781],\n",
              "        [0.9868],\n",
              "        [0.9955],\n",
              "        [1.0042],\n",
              "        [1.0129],\n",
              "        [1.0216],\n",
              "        [1.0303],\n",
              "        [1.0390],\n",
              "        [1.0477]])"
            ]
          },
          "metadata": {},
          "execution_count": 52
        }
      ]
    },
    {
      "cell_type": "code",
      "source": [
        "# checking the model's current device\n",
        "next(model_test.parameters()).device"
      ],
      "metadata": {
        "colab": {
          "base_uri": "https://localhost:8080/"
        },
        "id": "mbZbI0bijvmQ",
        "outputId": "38f74aa4-88c6-4130-cba5-549c0d3dc649"
      },
      "execution_count": 53,
      "outputs": [
        {
          "output_type": "execute_result",
          "data": {
            "text/plain": [
              "device(type='cpu')"
            ]
          },
          "metadata": {},
          "execution_count": 53
        }
      ]
    },
    {
      "cell_type": "code",
      "source": [
        "# making the model use the required device (device agnostic)\n",
        "model_test.to(device)\n",
        "next(model_test.parameters()).device"
      ],
      "metadata": {
        "colab": {
          "base_uri": "https://localhost:8080/"
        },
        "id": "gcesB1Wcj4J5",
        "outputId": "37ad5f1c-814c-42db-d23a-5d34675025fe"
      },
      "execution_count": 54,
      "outputs": [
        {
          "output_type": "execute_result",
          "data": {
            "text/plain": [
              "device(type='cpu')"
            ]
          },
          "metadata": {},
          "execution_count": 54
        }
      ]
    },
    {
      "cell_type": "markdown",
      "source": [
        "### 3. Create a loss function and optimizer using nn.L1Loss() and torch.optim.SGD(params, lr) respectively.\n",
        "\n",
        "* Set the learning rate of the optimizer to be 0.01 and the parameters to optimize should be the model parameters from the model you created in 2.\n",
        "* Write a training loop to perform the appropriate training steps for 300 epochs.\n",
        "* The training loop should test the model on the test dataset every 20 epochs."
      ],
      "metadata": {
        "id": "q7fhDJHPjcA6"
      }
    },
    {
      "cell_type": "code",
      "source": [
        "# Setting up the loss function\n",
        "loss_fn = nn.L1Loss()\n",
        "\n",
        "# Setting up the optimizer\n",
        "optimizer = torch.optim.SGD(params = model_test.parameters(),\n",
        "                            lr = 0.01)"
      ],
      "metadata": {
        "id": "5uCjgV8ljkPp"
      },
      "execution_count": 55,
      "outputs": []
    },
    {
      "cell_type": "code",
      "source": [
        "# Traning loop\n",
        "# epoch_count = []\n",
        "# train_loss_values = []\n",
        "# test_loss_values = []\n",
        "\n",
        "# Putting the data on the target device\n",
        "# train data\n",
        "X_train = X_train.to(device)\n",
        "y_train = y_train.to(device)\n",
        "\n",
        "# test data\n",
        "X_test = X_test.to(device)\n",
        "y_test = y_test.to(device)\n",
        "\n",
        "epochs = 300\n",
        "\n",
        "for epoch in range(epochs):\n",
        "  # set the model to training mode\n",
        "  model_test.train()\n",
        "\n",
        "  # 1. Forward pass\n",
        "  y_pred = model_test(X_train)\n",
        "\n",
        "  # 2. Claculate the loss\n",
        "  loss = loss_fn(y_pred, y_train)\n",
        "\n",
        "  # 3. optimizer zero grad\n",
        "  optimizer.zero_grad()\n",
        "\n",
        "  # 4. loss backward\n",
        "  loss.backward()\n",
        "\n",
        "  # 5. optimizer step\n",
        "  optimizer.step()\n",
        "\n",
        "  ### Testing for every 20 epochs\n",
        "  if epoch % 20 == 0:\n",
        "    # setting the model to evaluation mode (turn off gradient tracking and other unrequired monitorings while evaluating the model)\n",
        "    model_test.eval()\n",
        "\n",
        "    # entering into the inferencing mode\n",
        "    with torch.inference_mode():\n",
        "\n",
        "      # 1. Forward pass\n",
        "      y_pred_eval = model_test(X_test)\n",
        "\n",
        "      # Calculating the loss\n",
        "      loss_eval = loss_fn(y_pred_eval, y_test)\n",
        "\n",
        "    print(f'epoch: {epoch} ---> Train Loss: {loss} | Test Loss: {loss_eval}')\n",
        "\n"
      ],
      "metadata": {
        "colab": {
          "base_uri": "https://localhost:8080/"
        },
        "id": "4zq2_3dbk82J",
        "outputId": "626c8415-0c4a-4cbe-8c7c-4d63f8591da3"
      },
      "execution_count": 56,
      "outputs": [
        {
          "output_type": "stream",
          "name": "stdout",
          "text": [
            "epoch: 0 ---> Train Loss: 0.48800817131996155 | Test Loss: 0.18987485766410828\n",
            "epoch: 20 ---> Train Loss: 0.2568032741546631 | Test Loss: 0.08083002269268036\n",
            "epoch: 40 ---> Train Loss: 0.15892866253852844 | Test Loss: 0.2314838171005249\n",
            "epoch: 60 ---> Train Loss: 0.1393299400806427 | Test Loss: 0.2780398726463318\n",
            "epoch: 80 ---> Train Loss: 0.13039803504943848 | Test Loss: 0.2871960699558258\n",
            "epoch: 100 ---> Train Loss: 0.12320128828287125 | Test Loss: 0.2812637984752655\n",
            "epoch: 120 ---> Train Loss: 0.11628995090723038 | Test Loss: 0.2680456340312958\n",
            "epoch: 140 ---> Train Loss: 0.10943591594696045 | Test Loss: 0.2527504563331604\n",
            "epoch: 160 ---> Train Loss: 0.10258189588785172 | Test Loss: 0.23745527863502502\n",
            "epoch: 180 ---> Train Loss: 0.09572785347700119 | Test Loss: 0.22216010093688965\n",
            "epoch: 200 ---> Train Loss: 0.08887382596731186 | Test Loss: 0.20686490833759308\n",
            "epoch: 220 ---> Train Loss: 0.08201979100704193 | Test Loss: 0.1915697306394577\n",
            "epoch: 240 ---> Train Loss: 0.0751657634973526 | Test Loss: 0.17627455294132233\n",
            "epoch: 260 ---> Train Loss: 0.06831270456314087 | Test Loss: 0.16063538193702698\n",
            "epoch: 280 ---> Train Loss: 0.06146061420440674 | Test Loss: 0.14465227723121643\n"
          ]
        }
      ]
    },
    {
      "cell_type": "markdown",
      "source": [
        "### 4. Make predictions with the trained model on the test data.\n",
        "\n",
        "* Visualize these predictions against the original training and testing data (note: you may need to make sure the predictions are not on the GPU if you want to use non-CUDA-enabled libraries such as matplotlib to plot).\n",
        "\n",
        "To convert from GPU Tensor to CPU Tensor, use `<GPU Tensor>.cpu()`"
      ],
      "metadata": {
        "id": "tKay_DO0o--P"
      }
    },
    {
      "cell_type": "code",
      "source": [
        "# Making predictions\n",
        "model_test.eval()\n",
        "with torch.inference_mode():\n",
        "  y_predictions = model_test(X_test)\n",
        "y_predictions"
      ],
      "metadata": {
        "colab": {
          "base_uri": "https://localhost:8080/"
        },
        "id": "_nKCNSuWpwyu",
        "outputId": "79aa667c-07f2-4279-f1bd-3d03e2203f8e"
      },
      "execution_count": 57,
      "outputs": [
        {
          "output_type": "execute_result",
          "data": {
            "text/plain": [
              "tensor([[1.2433],\n",
              "        [1.2490],\n",
              "        [1.2547],\n",
              "        [1.2604],\n",
              "        [1.2661],\n",
              "        [1.2719],\n",
              "        [1.2776],\n",
              "        [1.2833],\n",
              "        [1.2890],\n",
              "        [1.2947],\n",
              "        [1.3004],\n",
              "        [1.3062],\n",
              "        [1.3119],\n",
              "        [1.3176],\n",
              "        [1.3233],\n",
              "        [1.3290],\n",
              "        [1.3348],\n",
              "        [1.3405],\n",
              "        [1.3462],\n",
              "        [1.3519]])"
            ]
          },
          "metadata": {},
          "execution_count": 57
        }
      ]
    },
    {
      "cell_type": "code",
      "source": [
        "# Output after training for 300 epochs\n",
        "plot_predictions(predictions = y_predictions.cpu())"
      ],
      "metadata": {
        "colab": {
          "base_uri": "https://localhost:8080/",
          "height": 599
        },
        "id": "W5wxCzFcpKPR",
        "outputId": "58900cf6-f008-414e-bf56-c05dde2a22db"
      },
      "execution_count": 58,
      "outputs": [
        {
          "output_type": "display_data",
          "data": {
            "text/plain": [
              "<Figure size 1000x700 with 1 Axes>"
            ],
            "image/png": "[encoded data removed]"
          },
          "metadata": {}
        }
      ]
    },
    {
      "cell_type": "code",
      "source": [
        "# Output befor Training (i.e. random weight and bias)\n",
        "plot_predictions(predictions = y_predictions_before)"
      ],
      "metadata": {
        "colab": {
          "base_uri": "https://localhost:8080/",
          "height": 599
        },
        "id": "4NWXvkqdqPS8",
        "outputId": "878a6ae0-f8f3-4e35-8d00-fe580818befa"
      },
      "execution_count": 59,
      "outputs": [
        {
          "output_type": "display_data",
          "data": {
            "text/plain": [
              "<Figure size 1000x700 with 1 Axes>"
            ],
            "image/png": "[encoded data removed]"
          },
          "metadata": {}
        }
      ]
    },
    {
      "cell_type": "markdown",
      "source": [
        "### 5. Save your trained model's state_dict() to file.\n",
        "\n",
        "* Create a new instance of your model class you made in 2. and load in the state_dict() you just saved to it.\n",
        "8 Perform predictions on your test data with the loaded model and confirm they match the original model predictions from 4."
      ],
      "metadata": {
        "id": "l0d4zA5HrQz4"
      }
    },
    {
      "cell_type": "code",
      "source": [
        "from pathlib import Path\n",
        "\n",
        "# 1. Create models directory\n",
        "MODEL_PATH = Path('models')\n",
        "MODEL_PATH.mkdir(parents = True, exist_ok = True)\n",
        "\n",
        "# 2. Create model save path\n",
        "MODEL_NAME = '01_workflow_model_test.pth'\n",
        "MODEL_SAVE_PATH = MODEL_PATH / MODEL_NAME\n",
        "\n",
        "# 3. Save the model's state_dict\n",
        "print(f'Saving the model to: {MODEL_SAVE_PATH}')\n",
        "torch.save(obj = model_test.state_dict(),\n",
        "           f = MODEL_SAVE_PATH, )"
      ],
      "metadata": {
        "colab": {
          "base_uri": "https://localhost:8080/"
        },
        "id": "To87t1LlrYcm",
        "outputId": "d428254a-aef0-4333-8c69-5085d57eb214"
      },
      "execution_count": 60,
      "outputs": [
        {
          "output_type": "stream",
          "name": "stdout",
          "text": [
            "Saving the model to: models/01_workflow_model_test.pth\n"
          ]
        }
      ]
    },
    {
      "cell_type": "code",
      "source": [
        "# Loading the model\n",
        "\n",
        "# Creating a new instance of the class\n",
        "loaded_model = LinearRegressionModel()\n",
        "\n",
        "print(f'state_dict of loaded_model: {loaded_model.state_dict()}')\n",
        "\n",
        "# Load the saved state_dict values to this model\n",
        "loaded_model.load_state_dict(torch.load(MODEL_SAVE_PATH))\n",
        "\n",
        "# Put the loaded model on the preffered device\n",
        "loaded_model.to(device)"
      ],
      "metadata": {
        "colab": {
          "base_uri": "https://localhost:8080/"
        },
        "id": "eXrsqORXtH1n",
        "outputId": "d20970ed-d04a-4952-a915-e80dd35bec03"
      },
      "execution_count": 61,
      "outputs": [
        {
          "output_type": "stream",
          "name": "stdout",
          "text": [
            "state_dict of loaded_model: OrderedDict([('linear_layer.weight', tensor([[0.7388]])), ('linear_layer.bias', tensor([0.1354]))])\n"
          ]
        },
        {
          "output_type": "execute_result",
          "data": {
            "text/plain": [
              "LinearRegressionModel(\n",
              "  (linear_layer): Linear(in_features=1, out_features=1, bias=True)\n",
              ")"
            ]
          },
          "metadata": {},
          "execution_count": 61
        }
      ]
    },
    {
      "cell_type": "code",
      "source": [
        "# check the device on which the model is running\n",
        "next(loaded_model.parameters()).device"
      ],
      "metadata": {
        "colab": {
          "base_uri": "https://localhost:8080/"
        },
        "id": "we-pK_N0t2_2",
        "outputId": "b67dd576-8210-4255-9aa8-ca37146dcd8b"
      },
      "execution_count": 62,
      "outputs": [
        {
          "output_type": "execute_result",
          "data": {
            "text/plain": [
              "device(type='cpu')"
            ]
          },
          "metadata": {},
          "execution_count": 62
        }
      ]
    },
    {
      "cell_type": "code",
      "source": [
        "# testing the model and comparing it with the oringinal model\n",
        "loaded_model.eval()\n",
        "with torch.inference_mode():\n",
        "  y_pred_loaded = loaded_model(X_test)\n",
        "y_pred_loaded == y_predictions"
      ],
      "metadata": {
        "colab": {
          "base_uri": "https://localhost:8080/"
        },
        "id": "CneM9ZxPuGaP",
        "outputId": "448b1b9b-a20e-4a64-a479-2d5d3ebeb67c"
      },
      "execution_count": 63,
      "outputs": [
        {
          "output_type": "execute_result",
          "data": {
            "text/plain": [
              "tensor([[True],\n",
              "        [True],\n",
              "        [True],\n",
              "        [True],\n",
              "        [True],\n",
              "        [True],\n",
              "        [True],\n",
              "        [True],\n",
              "        [True],\n",
              "        [True],\n",
              "        [True],\n",
              "        [True],\n",
              "        [True],\n",
              "        [True],\n",
              "        [True],\n",
              "        [True],\n",
              "        [True],\n",
              "        [True],\n",
              "        [True],\n",
              "        [True]])"
            ]
          },
          "metadata": {},
          "execution_count": 63
        }
      ]
    }
  ]
}