{
  "nbformat": 4,
  "nbformat_minor": 0,
  "metadata": {
    "colab": {
      "provenance": [],
      "gpuType": "T4"
    },
    "kernelspec": {
      "name": "python3",
      "display_name": "Python 3"
    },
    "language_info": {
      "name": "python"
    },
    "accelerator": "GPU"
  },
  "cells": [
    {
      "cell_type": "markdown",
      "source": [
        "## PyTorch Workflow\n",
        "\n",
        "Let's explore a an example PyTorch end-to-end workflow."
      ],
      "metadata": {
        "id": "K35KL62BiM3y"
      }
    },
    {
      "cell_type": "code",
      "source": [
        "what_were_building = {1: 'data (prepare and load)',\n",
        "                      2: 'build model',\n",
        "                      3: 'fitting the model to data (training)',\n",
        "                      4: 'making preditctions and evaluating a model (inference)',\n",
        "                      5: 'saving and loading a model',\n",
        "                      6: 'putting it all together'}\n",
        "what_were_building"
      ],
      "metadata": {
        "colab": {
          "base_uri": "https://localhost:8080/"
        },
        "id": "qr-uI3Ikigw7",
        "outputId": "d6df8b63-d238-4e4a-bd20-637cd63ed7ec"
      },
      "execution_count": 1,
      "outputs": [
        {
          "output_type": "execute_result",
          "data": {
            "text/plain": [
              "{1: 'data (prepare and load)',\n",
              " 2: 'build model',\n",
              " 3: 'fitting the model to data (training)',\n",
              " 4: 'making preditctions and evaluating a model (inference)',\n",
              " 5: 'saving and loading a model',\n",
              " 6: 'putting it all together'}"
            ]
          },
          "metadata": {},
          "execution_count": 1
        }
      ]
    },
    {
      "cell_type": "code",
      "source": [
        "import torch\n",
        "from torch import nn # nn contains all of PyTorch's building blocks for neural networks\n",
        "import matplotlib.pyplot as plt\n",
        "\n",
        "# check PyTorch version\n",
        "torch.__version__"
      ],
      "metadata": {
        "colab": {
          "base_uri": "https://localhost:8080/",
          "height": 36
        },
        "id": "C2IgDuK3kXeM",
        "outputId": "c8dd0bde-ed3e-4363-d5ea-f63dc8aed21d"
      },
      "execution_count": 2,
      "outputs": [
        {
          "output_type": "execute_result",
          "data": {
            "text/plain": [
              "'2.2.1+cu121'"
            ],
            "application/vnd.google.colaboratory.intrinsic+json": {
              "type": "string"
            }
          },
          "metadata": {},
          "execution_count": 2
        }
      ]
    },
    {
      "cell_type": "markdown",
      "source": [
        "## 1. Data (Preparing and loading)\n",
        "\n",
        "Data can be almost anything... in machine learning.\n",
        "\n",
        "* Excel speadsheet\n",
        "* Images of any kind\n",
        "* Videos (Youtube has lots of data...)\n",
        "* Audio like songs or podcasts\n",
        "* DNA\n",
        "* Text\n",
        "\n",
        "Machine learning is a game of two parts:\n",
        "1. Get data into a numerical representations.\n",
        "2. Build a model to learn patterns in the numerical representation.\n",
        "\n",
        "To showcase this, let's create some *known* data using the linear regression formula.\n",
        "\n",
        "we'll use a linear regression formula to make a straight line with *known* **parameters**."
      ],
      "metadata": {
        "id": "nlOLvAJfktpm"
      }
    },
    {
      "cell_type": "code",
      "source": [
        "# Create *known* parameters\n",
        "weight = 0.7\n",
        "bias = 0.3\n",
        "\n",
        "# Create\n",
        "start = 0\n",
        "end = 1\n",
        "step = 0.02\n",
        "X = torch.arange(start, end, step).unsqueeze(dim = 1)\n",
        "y = weight * X + bias\n",
        "\n",
        "print(X.shape)\n",
        "\n",
        "X[:10], y[:10]"
      ],
      "metadata": {
        "colab": {
          "base_uri": "https://localhost:8080/"
        },
        "id": "0hBXmyAzk2bA",
        "outputId": "8e62e885-bb78-4647-94a2-17431e2eb383"
      },
      "execution_count": 3,
      "outputs": [
        {
          "output_type": "stream",
          "name": "stdout",
          "text": [
            "torch.Size([50, 1])\n"
          ]
        },
        {
          "output_type": "execute_result",
          "data": {
            "text/plain": [
              "(tensor([[0.0000],\n",
              "         [0.0200],\n",
              "         [0.0400],\n",
              "         [0.0600],\n",
              "         [0.0800],\n",
              "         [0.1000],\n",
              "         [0.1200],\n",
              "         [0.1400],\n",
              "         [0.1600],\n",
              "         [0.1800]]),\n",
              " tensor([[0.3000],\n",
              "         [0.3140],\n",
              "         [0.3280],\n",
              "         [0.3420],\n",
              "         [0.3560],\n",
              "         [0.3700],\n",
              "         [0.3840],\n",
              "         [0.3980],\n",
              "         [0.4120],\n",
              "         [0.4260]]))"
            ]
          },
          "metadata": {},
          "execution_count": 3
        }
      ]
    },
    {
      "cell_type": "code",
      "source": [
        "len(X), len(y)"
      ],
      "metadata": {
        "colab": {
          "base_uri": "https://localhost:8080/"
        },
        "id": "YcuQz20mnT9y",
        "outputId": "4bf037f4-13e9-49f1-9377-198812caf33f"
      },
      "execution_count": 4,
      "outputs": [
        {
          "output_type": "execute_result",
          "data": {
            "text/plain": [
              "(50, 50)"
            ]
          },
          "metadata": {},
          "execution_count": 4
        }
      ]
    },
    {
      "cell_type": "markdown",
      "source": [
        "### Splitting data into training and test sets (one of the most important concepts in machine learning in general)\n",
        "\n",
        "Let's create s training and test set with our data."
      ],
      "metadata": {
        "id": "HW5TnNt8pH1t"
      }
    },
    {
      "cell_type": "code",
      "source": [
        "# create train/test split\n",
        "train_split = int(0.8 * len(X))\n",
        "X_train, y_train = X[:train_split], y[:train_split]\n",
        "X_test, y_test = X[train_split:], y[train_split:]\n",
        "\n",
        "len(X_train), len(y_train), len(X_test), len(y_test)"
      ],
      "metadata": {
        "colab": {
          "base_uri": "https://localhost:8080/"
        },
        "id": "4WXwd0JU_-X9",
        "outputId": "201e534a-e173-469e-dda4-8a87a532f9f7"
      },
      "execution_count": 5,
      "outputs": [
        {
          "output_type": "execute_result",
          "data": {
            "text/plain": [
              "(40, 40, 10, 10)"
            ]
          },
          "metadata": {},
          "execution_count": 5
        }
      ]
    },
    {
      "cell_type": "markdown",
      "source": [
        "How might we better visualize our data?\n",
        "\n",
        "This is where the data explorer's motto comes in!\n",
        "\n",
        "\"Visualize, visualize, visualize!\""
      ],
      "metadata": {
        "id": "gf9v7PkmCPew"
      }
    },
    {
      "cell_type": "code",
      "source": [
        "def plot_predictions(train_data = X_train,\n",
        "                     train_labels = y_train,\n",
        "                     test_data = X_test,\n",
        "                     test_labels = y_test,\n",
        "                     predictions = None):\n",
        "  \"\"\"\n",
        "  Plots training data, test data and compares predictions.\n",
        "  \"\"\"\n",
        "  plt.figure(figsize = (10,7))\n",
        "\n",
        "  # Plot training data in blue\n",
        "  plt.scatter(train_data, train_labels, c=\"b\", s = 4, label = \"Training data\")\n",
        "\n",
        "  # Plot test data in green\n",
        "  plt.scatter(test_data, test_labels, c=\"g\", s = 4, label = \"Testing data\")\n",
        "\n",
        "  # Are there predictions?\n",
        "  if predictions is not None:\n",
        "    # plot the predictions if they exist\n",
        "    plt.scatter(test_data, predictions, c=\"r\", s=  4, label = \"Predictions\")\n",
        "\n",
        "  # show the legend\n",
        "  plt.legend(prop={\"size\" : 14});"
      ],
      "metadata": {
        "id": "myMhTRtECfnw"
      },
      "execution_count": 6,
      "outputs": []
    },
    {
      "cell_type": "code",
      "source": [
        "plot_predictions()"
      ],
      "metadata": {
        "colab": {
          "base_uri": "https://localhost:8080/",
          "height": 599
        },
        "id": "rw4r97cXEiWh",
        "outputId": "03b6a001-4b04-4ab3-be65-58decac1eeb2"
      },
      "execution_count": 7,
      "outputs": [
        {
          "output_type": "display_data",
          "data": {
            "text/plain": [
              "<Figure size 1000x700 with 1 Axes>"
            ],
            "image/png": "[encoded data removed]"
          },
          "metadata": {}
        }
      ]
    },
    {
      "cell_type": "markdown",
      "source": [
        "## 2. Building model\n",
        "\n",
        "Our first PyTorch model!\n",
        "\n",
        "This is very exciting...let's do it!\n",
        "\n",
        "What our model does:\n",
        "* Start with random values (weight and bias)\n",
        "* Look at raining data and adjust the random values to better represent (or get closer to) the ideal values (the weight & bias values we used to create the data)\n",
        "\n",
        "How does it do so?\n",
        "\n",
        "Through two main algorithms:\n",
        "1. Gradient descent\n",
        "2. Backpropagation"
      ],
      "metadata": {
        "id": "GH21apkNhvZZ"
      }
    },
    {
      "cell_type": "code",
      "source": [
        "from torch import nn\n",
        "\n",
        "# Create linear regression model class\n",
        "class LinearRegressionModel(nn.Module): # <- almost everything in PyTorch inherits from nn.Module\n",
        "  def __init__(self):\n",
        "    super().__init__()\n",
        "\n",
        "    # initialize model parameters\n",
        "    # these could be:\n",
        "    # 1. different layers from torch.nn\n",
        "    # 2. single parameters\n",
        "    # 3. hard-codded values\n",
        "    # 4. functions\n",
        "    self.weight = nn.Parameter(torch.randn(1, # <- start with random weight and try to adjust it to the ideal weight\n",
        "                                           requires_grad=True,  #  <- can this parameter be updated via gradient descent?\n",
        "                                           dtype = torch.float))  # <- PyTorch loves the datatype torch.float32\n",
        "    self.bias = nn.Parameter(torch.randn(1,  # <- start with random weight and try to adjust it to the ideal weight\n",
        "                                          requires_grad = True, #  <- can this parameter be updated via gradient descent?\n",
        "                                          dtype = torch.float)) # <- PyTorch loves the datatype torch.float32\n",
        "  # Forward method to define the computation in the model\n",
        "  # Any subclass of nn.Module needs to override \"forward()\"\n",
        "  def forward(self, x: torch.Tensor) -> torch.Tensor: # <- \"x\" is the input data\n",
        "    return self.weight * x + self.bias # this is the linear regression formula"
      ],
      "metadata": {
        "id": "2yGZaz7piIix"
      },
      "execution_count": 8,
      "outputs": []
    },
    {
      "cell_type": "markdown",
      "source": [
        "### PyTorch model building essentials\n",
        "\n",
        "* torch.nn - contrains all of ther buildings for computational graphs (a neural network can be considered a computational graph).\n",
        "* torch.nn.Parameter - what parameters should our model try and learn, often a PyTorch layer from torch.nn will set these for us.\n",
        "* torch.nn.Module - The base class for all neural network modules, if you subclass it, you should overwrite forward().\n",
        "* torch.optim - this is where the optimizers in PyTorch live, they will help with gradient descent.\n",
        "* def forward() - All nn.Module subclasses require you to overwrite forward(), this method defines what happens in the forward computation.\n",
        "* torch.utils.data.Dataset - represents a map between key (label) and sample (features) pairs of your data. such as images and their associated labels.\n",
        "* torch.utils.data.DataLoader - creates a Python iterable over a torch Dataset (allows you to iterate over your data)."
      ],
      "metadata": {
        "id": "aghZxD7Kk4t-"
      }
    },
    {
      "cell_type": "markdown",
      "source": [
        "### Checking the content of our PyTorch model\n",
        "\n",
        "Now we've created a model, let's see what's inside...\n",
        "So we can check our model parameters or what's inside our model using `.parameters()`."
      ],
      "metadata": {
        "id": "fFsCic8PqM_i"
      }
    },
    {
      "cell_type": "code",
      "source": [
        "# Create a random seed\n",
        "torch.manual_seed(42)\n",
        "\n",
        "# Create an instance of the model (this is a subclass of nn.Module)\n",
        "model_0 = LinearRegressionModel()\n",
        "\n",
        "# Check out the parameters\n",
        "list(model_0.parameters())"
      ],
      "metadata": {
        "colab": {
          "base_uri": "https://localhost:8080/"
        },
        "id": "29mLqPHZqg3q",
        "outputId": "0fe6464b-ebfa-419b-e951-9fd35abbf2b9"
      },
      "execution_count": 9,
      "outputs": [
        {
          "output_type": "execute_result",
          "data": {
            "text/plain": [
              "[Parameter containing:\n",
              " tensor([0.3367], requires_grad=True),\n",
              " Parameter containing:\n",
              " tensor([0.1288], requires_grad=True)]"
            ]
          },
          "metadata": {},
          "execution_count": 9
        }
      ]
    },
    {
      "cell_type": "code",
      "source": [
        "# List named paramaters\n",
        "# check out our model's parameters (a parameter is a value that the model sets itsaelf)\n",
        "model_0.state_dict()"
      ],
      "metadata": {
        "colab": {
          "base_uri": "https://localhost:8080/"
        },
        "id": "EoV9onWMsscS",
        "outputId": "06d04b63-8341-4d1a-b3dd-fae0e91f7899"
      },
      "execution_count": 10,
      "outputs": [
        {
          "output_type": "execute_result",
          "data": {
            "text/plain": [
              "OrderedDict([('weight', tensor([0.3367])), ('bias', tensor([0.1288]))])"
            ]
          },
          "metadata": {},
          "execution_count": 10
        }
      ]
    },
    {
      "cell_type": "markdown",
      "source": [
        "### Making prediction using `torch.inference_mode()`\n",
        "\n",
        "To check our model's predictive power, let's see how it will predict `y_test` based on `X_test`.\n",
        "When we pass data through our model, it's going to run it through the `forward()` method."
      ],
      "metadata": {
        "id": "UdAQyuhgsz-Z"
      }
    },
    {
      "cell_type": "code",
      "source": [
        "y_pred = model_0(X_test)\n",
        "y_pred"
      ],
      "metadata": {
        "colab": {
          "base_uri": "https://localhost:8080/"
        },
        "id": "gKu_DT1iRyb2",
        "outputId": "5940b2ac-95bd-4197-d7be-42f9a3428e74"
      },
      "execution_count": 11,
      "outputs": [
        {
          "output_type": "execute_result",
          "data": {
            "text/plain": [
              "tensor([[0.3982],\n",
              "        [0.4049],\n",
              "        [0.4116],\n",
              "        [0.4184],\n",
              "        [0.4251],\n",
              "        [0.4318],\n",
              "        [0.4386],\n",
              "        [0.4453],\n",
              "        [0.4520],\n",
              "        [0.4588]], grad_fn=<AddBackward0>)"
            ]
          },
          "metadata": {},
          "execution_count": 11
        }
      ]
    },
    {
      "cell_type": "code",
      "source": [
        "# Make predictions with model\n",
        "with torch.inference_mode():\n",
        "  y_pred = model_0(X_test)\n",
        "\n",
        "# you can do something similar with torch.no_grad(), however, torch.inference_mode() is preffered\n",
        "\n",
        "# with torch.no_grad():\n",
        "#   y_pred = model_0(X_test)\n",
        "\n",
        "y_pred"
      ],
      "metadata": {
        "colab": {
          "base_uri": "https://localhost:8080/"
        },
        "id": "TgHwkEHzR4hE",
        "outputId": "62ed2188-ac53-406b-bf66-ff0f02608aea"
      },
      "execution_count": 12,
      "outputs": [
        {
          "output_type": "execute_result",
          "data": {
            "text/plain": [
              "tensor([[0.3982],\n",
              "        [0.4049],\n",
              "        [0.4116],\n",
              "        [0.4184],\n",
              "        [0.4251],\n",
              "        [0.4318],\n",
              "        [0.4386],\n",
              "        [0.4453],\n",
              "        [0.4520],\n",
              "        [0.4588]])"
            ]
          },
          "metadata": {},
          "execution_count": 12
        }
      ]
    },
    {
      "cell_type": "code",
      "source": [
        "plot_predictions(predictions = y_pred )"
      ],
      "metadata": {
        "colab": {
          "base_uri": "https://localhost:8080/",
          "height": 599
        },
        "id": "WZsCGW1oSfM3",
        "outputId": "8b8c836d-6ed5-46b3-830a-0213200edb02"
      },
      "execution_count": 13,
      "outputs": [
        {
          "output_type": "display_data",
          "data": {
            "text/plain": [
              "<Figure size 1000x700 with 1 Axes>"
            ],
            "image/png": "[encoded data removed]"
          },
          "metadata": {}
        }
      ]
    },
    {
      "cell_type": "markdown",
      "source": [
        "### 3. Train model\n",
        "\n",
        "The whole idea of training is for a model to move from some *unknown* parametrs (these may be random) to some *known* parameters.\n",
        "\n",
        "Or in other words from a poor representation of the data to a better representation of the data.\n",
        "\n",
        "One way to measure how poor or how wrong your models predictions are is to use a loss function.\n",
        "\n",
        "* Note: Loss function may also be called cost function or criterion in different areas. For our case, we're going to refer to it as a loss function.\n",
        "\n",
        "Things we need to train:\n",
        "* **Loss function:** A function to measure how wrong your model's predictions are to the ideal outputs, lower is better.\n",
        "* **Optimizer:** Takes into account the loss of a model and adjusts the model's parameters(e.g. weight & bias in our case) to improve the loss function.\n",
        "\n",
        "  * Inside the optimizer you'll often have to set two parameters:\n",
        "    * `params` - the model parameters you'd like to optimize for example `params = model_0.parameters()`\n",
        "    * `lr` (learning rate) - the learning rate is a hyperparameter thet defines how big/small  the optimizer changes the parameters with each step (a small `lr` results in small changes, a large `lr` results in large changes)\n",
        "\n",
        "And specifically for PyTorch, we need:\n",
        "* A training loop\n",
        "* A testing loop"
      ],
      "metadata": {
        "id": "Daoi8q2-XTV5"
      }
    },
    {
      "cell_type": "code",
      "source": [
        "# Setup a loss function\n",
        "loss_fn = nn.L1Loss()\n",
        "\n",
        "# Setup an optimizer (stochastic gradient descent)\n",
        "optimizer = torch.optim.SGD(params = model_0.parameters(),\n",
        "                               lr = 0.01) # lr = learning rate = possibly the most important hyperparameter you can set"
      ],
      "metadata": {
        "id": "Y2Aqyt7XZeRa"
      },
      "execution_count": 14,
      "outputs": []
    },
    {
      "cell_type": "markdown",
      "source": [
        "**Q:** Which loss function and optimizer should I use?\n",
        "\n",
        "**A:** This will be problem specific. But with experience, you'll get an idea of what works and what does'nt with your particular problem set.\n",
        "\n",
        "For example, for a regression problem (like ours), a loss function of `nn.L1Loss()` and an optimizer like `torch.optim.SGD()` will suffice.\n",
        "\n",
        "But for a classification problem like classifying weather a photo is of a dog or a cat, you'll likely want to use a loss function of `nn.BCELoss()` (binary cross entropy loss)."
      ],
      "metadata": {
        "id": "aIawrdyCnKRI"
      }
    },
    {
      "cell_type": "markdown",
      "source": [
        "### Building a training loop (and a testing loop) in PyTorch\n",
        "\n",
        "A couple of things we need in a training loop:\n",
        "0. Loop through the data\n",
        "1. Forward pass (this involves data moving through our model's `forward()` functions) to make predictions on data - also called forward propagation\n",
        "2. Calculate the loss (compare forward pass predictions to ground truth labels)\n",
        "3. Optimizer zero grad\n",
        "4. Loss backward - move backward through the network to calculate the gradients of each of the parameters of our model with respect to the loss (**backpropagation**)\n",
        "5. Optimizer step - use the optimizer to adjust our model's parameters to try and improve the loss (**gradient descent**)"
      ],
      "metadata": {
        "id": "9bjLw7IioQwb"
      }
    },
    {
      "cell_type": "code",
      "source": [
        "torch.manual_seed(42)\n",
        "# An epoch is one loop through the data... (this is a hyperparameter because we've set it ourselves)\n",
        "epochs = 100\n",
        "\n",
        "epoch_count = []\n",
        "train_loss_values = []\n",
        "test_loss_values = []\n",
        "\n",
        "### Training---------------------------------------------------\n",
        "# 0. Loop through the data\n",
        "for epoch in range(epochs):\n",
        "  # set the model to training mode\n",
        "  model_0.train() # traing mode in PyTorch sets all parameters that require gradients to require gradients\n",
        "\n",
        "  # 1. Forward pass\n",
        "  y_pred = model_0(X_train)\n",
        "\n",
        "  # 2. Claculate the loss\n",
        "  loss = loss_fn(y_pred, y_train)\n",
        "  # print(f'Loss: {loss}')\n",
        "\n",
        "  # 3. Optimizer zero grad\n",
        "  optimizer.zero_grad()\n",
        "\n",
        "  # 4. Perform backpropagation on the loss with respect to the parameters of the model\n",
        "  loss.backward()\n",
        "\n",
        "  # 5. Step the optimizer (perform gradient descent)\n",
        "  optimizer.step() # by default how the optimizer changes will accumulate through the loop so... we have to zero them above in step 3 for the next iteration of the loop\n",
        "\n",
        "\n",
        "\n",
        "\n",
        "\n",
        "\n",
        "  ### Testing----------------------------------------------\n",
        "  model_0.eval()  # turns off different settings in the model not needed for evaluating/testing (droupout/batch norm layers)\n",
        "  with torch.inference_mode():  # turns off gradient tracking & couple more things behind the scenes.\n",
        "  # with torch.no_grad(): # you may also see torch.no_grad() in older PyTorch code\n",
        "    # 1. Do the forward pass\n",
        "    test_pred = model_0(X_test)\n",
        "\n",
        "    # 2. Calculate the loss\n",
        "    test_loss = loss_fn(test_pred, y_test)\n",
        "\n",
        "\n",
        "\n",
        "  epoch_count.append(epoch)\n",
        "  train_loss_values.append(loss)\n",
        "  test_loss_values.append(test_loss)\n",
        "\n",
        "\n",
        "\n",
        "\n",
        "\n",
        "  # print out what's happenin'------------------------------\n",
        "  if epoch % 10 == 0:\n",
        "    print(f\"Epoch: {epoch} | Loss: {loss} | Test loss: {test_loss}\")\n",
        "    # Print out the model state_dict()\n",
        "    print(model_0.state_dict())\n",
        "\n",
        "\n",
        "  model_0.state_dict()"
      ],
      "metadata": {
        "id": "ioyEdElOofQ2",
        "colab": {
          "base_uri": "https://localhost:8080/"
        },
        "outputId": "2c95536c-18a8-48ff-fac9-e27a5d3355c0"
      },
      "execution_count": 15,
      "outputs": [
        {
          "output_type": "stream",
          "name": "stdout",
          "text": [
            "Epoch: 0 | Loss: 0.31288138031959534 | Test loss: 0.48106518387794495\n",
            "OrderedDict([('weight', tensor([0.3406])), ('bias', tensor([0.1388]))])\n",
            "Epoch: 10 | Loss: 0.1976713240146637 | Test loss: 0.3463551998138428\n",
            "OrderedDict([('weight', tensor([0.3796])), ('bias', tensor([0.2388]))])\n",
            "Epoch: 20 | Loss: 0.08908725529909134 | Test loss: 0.21729660034179688\n",
            "OrderedDict([('weight', tensor([0.4184])), ('bias', tensor([0.3333]))])\n",
            "Epoch: 30 | Loss: 0.053148526698350906 | Test loss: 0.14464017748832703\n",
            "OrderedDict([('weight', tensor([0.4512])), ('bias', tensor([0.3768]))])\n",
            "Epoch: 40 | Loss: 0.04543796554207802 | Test loss: 0.11360953003168106\n",
            "OrderedDict([('weight', tensor([0.4748])), ('bias', tensor([0.3868]))])\n",
            "Epoch: 50 | Loss: 0.04167863354086876 | Test loss: 0.09919948130846024\n",
            "OrderedDict([('weight', tensor([0.4938])), ('bias', tensor([0.3843]))])\n",
            "Epoch: 60 | Loss: 0.03818932920694351 | Test loss: 0.08886633068323135\n",
            "OrderedDict([('weight', tensor([0.5116])), ('bias', tensor([0.3788]))])\n",
            "Epoch: 70 | Loss: 0.03476089984178543 | Test loss: 0.0805937647819519\n",
            "OrderedDict([('weight', tensor([0.5288])), ('bias', tensor([0.3718]))])\n",
            "Epoch: 80 | Loss: 0.03132382780313492 | Test loss: 0.07232122868299484\n",
            "OrderedDict([('weight', tensor([0.5459])), ('bias', tensor([0.3648]))])\n",
            "Epoch: 90 | Loss: 0.02788739837706089 | Test loss: 0.06473556160926819\n",
            "OrderedDict([('weight', tensor([0.5629])), ('bias', tensor([0.3573]))])\n"
          ]
        }
      ]
    },
    {
      "cell_type": "code",
      "source": [
        "# plot_predictions(predictions=y_preds)\n",
        "with torch.inference_mode():\n",
        "  y_pred_new = model_0(X_test)\n",
        "  plot_predictions(predictions = y_pred_new)"
      ],
      "metadata": {
        "colab": {
          "base_uri": "https://localhost:8080/",
          "height": 599
        },
        "id": "59bCmAbmgTiK",
        "outputId": "3e6b93c7-298f-4805-93c8-a68b0cbf232a"
      },
      "execution_count": 16,
      "outputs": [
        {
          "output_type": "display_data",
          "data": {
            "text/plain": [
              "<Figure size 1000x700 with 1 Axes>"
            ],
            "image/png": "[encoded data removed]"
          },
          "metadata": {}
        }
      ]
    },
    {
      "cell_type": "code",
      "source": [
        "model_0.state_dict(), weight, bias"
      ],
      "metadata": {
        "colab": {
          "base_uri": "https://localhost:8080/"
        },
        "id": "tJz6B2B2ihss",
        "outputId": "86ef6341-2883-4af1-de3c-6d84c97f7ad3"
      },
      "execution_count": 17,
      "outputs": [
        {
          "output_type": "execute_result",
          "data": {
            "text/plain": [
              "(OrderedDict([('weight', tensor([0.5784])), ('bias', tensor([0.3513]))]),\n",
              " 0.7,\n",
              " 0.3)"
            ]
          },
          "metadata": {},
          "execution_count": 17
        }
      ]
    },
    {
      "cell_type": "code",
      "source": [
        "epoch_count, train_loss_values, test_loss_values"
      ],
      "metadata": {
        "colab": {
          "base_uri": "https://localhost:8080/"
        },
        "id": "FCzJyxpx0aX-",
        "outputId": "61a2c1b4-e54f-4b11-c9df-7ae232cb4c0d"
      },
      "execution_count": 18,
      "outputs": [
        {
          "output_type": "execute_result",
          "data": {
            "text/plain": [
              "([0,\n",
              "  1,\n",
              "  2,\n",
              "  3,\n",
              "  4,\n",
              "  5,\n",
              "  6,\n",
              "  7,\n",
              "  8,\n",
              "  9,\n",
              "  10,\n",
              "  11,\n",
              "  12,\n",
              "  13,\n",
              "  14,\n",
              "  15,\n",
              "  16,\n",
              "  17,\n",
              "  18,\n",
              "  19,\n",
              "  20,\n",
              "  21,\n",
              "  22,\n",
              "  23,\n",
              "  24,\n",
              "  25,\n",
              "  26,\n",
              "  27,\n",
              "  28,\n",
              "  29,\n",
              "  30,\n",
              "  31,\n",
              "  32,\n",
              "  33,\n",
              "  34,\n",
              "  35,\n",
              "  36,\n",
              "  37,\n",
              "  38,\n",
              "  39,\n",
              "  40,\n",
              "  41,\n",
              "  42,\n",
              "  43,\n",
              "  44,\n",
              "  45,\n",
              "  46,\n",
              "  47,\n",
              "  48,\n",
              "  49,\n",
              "  50,\n",
              "  51,\n",
              "  52,\n",
              "  53,\n",
              "  54,\n",
              "  55,\n",
              "  56,\n",
              "  57,\n",
              "  58,\n",
              "  59,\n",
              "  60,\n",
              "  61,\n",
              "  62,\n",
              "  63,\n",
              "  64,\n",
              "  65,\n",
              "  66,\n",
              "  67,\n",
              "  68,\n",
              "  69,\n",
              "  70,\n",
              "  71,\n",
              "  72,\n",
              "  73,\n",
              "  74,\n",
              "  75,\n",
              "  76,\n",
              "  77,\n",
              "  78,\n",
              "  79,\n",
              "  80,\n",
              "  81,\n",
              "  82,\n",
              "  83,\n",
              "  84,\n",
              "  85,\n",
              "  86,\n",
              "  87,\n",
              "  88,\n",
              "  89,\n",
              "  90,\n",
              "  91,\n",
              "  92,\n",
              "  93,\n",
              "  94,\n",
              "  95,\n",
              "  96,\n",
              "  97,\n",
              "  98,\n",
              "  99],\n",
              " [tensor(0.3129, grad_fn=<MeanBackward0>),\n",
              "  tensor(0.3014, grad_fn=<MeanBackward0>),\n",
              "  tensor(0.2898, grad_fn=<MeanBackward0>),\n",
              "  tensor(0.2783, grad_fn=<MeanBackward0>),\n",
              "  tensor(0.2668, grad_fn=<MeanBackward0>),\n",
              "  tensor(0.2553, grad_fn=<MeanBackward0>),\n",
              "  tensor(0.2438, grad_fn=<MeanBackward0>),\n",
              "  tensor(0.2322, grad_fn=<MeanBackward0>),\n",
              "  tensor(0.2207, grad_fn=<MeanBackward0>),\n",
              "  tensor(0.2092, grad_fn=<MeanBackward0>),\n",
              "  tensor(0.1977, grad_fn=<MeanBackward0>),\n",
              "  tensor(0.1862, grad_fn=<MeanBackward0>),\n",
              "  tensor(0.1746, grad_fn=<MeanBackward0>),\n",
              "  tensor(0.1631, grad_fn=<MeanBackward0>),\n",
              "  tensor(0.1516, grad_fn=<MeanBackward0>),\n",
              "  tensor(0.1401, grad_fn=<MeanBackward0>),\n",
              "  tensor(0.1285, grad_fn=<MeanBackward0>),\n",
              "  tensor(0.1170, grad_fn=<MeanBackward0>),\n",
              "  tensor(0.1061, grad_fn=<MeanBackward0>),\n",
              "  tensor(0.0968, grad_fn=<MeanBackward0>),\n",
              "  tensor(0.0891, grad_fn=<MeanBackward0>),\n",
              "  tensor(0.0823, grad_fn=<MeanBackward0>),\n",
              "  tensor(0.0764, grad_fn=<MeanBackward0>),\n",
              "  tensor(0.0716, grad_fn=<MeanBackward0>),\n",
              "  tensor(0.0675, grad_fn=<MeanBackward0>),\n",
              "  tensor(0.0640, grad_fn=<MeanBackward0>),\n",
              "  tensor(0.0610, grad_fn=<MeanBackward0>),\n",
              "  tensor(0.0585, grad_fn=<MeanBackward0>),\n",
              "  tensor(0.0564, grad_fn=<MeanBackward0>),\n",
              "  tensor(0.0546, grad_fn=<MeanBackward0>),\n",
              "  tensor(0.0531, grad_fn=<MeanBackward0>),\n",
              "  tensor(0.0518, grad_fn=<MeanBackward0>),\n",
              "  tensor(0.0507, grad_fn=<MeanBackward0>),\n",
              "  tensor(0.0498, grad_fn=<MeanBackward0>),\n",
              "  tensor(0.0490, grad_fn=<MeanBackward0>),\n",
              "  tensor(0.0482, grad_fn=<MeanBackward0>),\n",
              "  tensor(0.0475, grad_fn=<MeanBackward0>),\n",
              "  tensor(0.0469, grad_fn=<MeanBackward0>),\n",
              "  tensor(0.0464, grad_fn=<MeanBackward0>),\n",
              "  tensor(0.0459, grad_fn=<MeanBackward0>),\n",
              "  tensor(0.0454, grad_fn=<MeanBackward0>),\n",
              "  tensor(0.0450, grad_fn=<MeanBackward0>),\n",
              "  tensor(0.0446, grad_fn=<MeanBackward0>),\n",
              "  tensor(0.0442, grad_fn=<MeanBackward0>),\n",
              "  tensor(0.0438, grad_fn=<MeanBackward0>),\n",
              "  tensor(0.0434, grad_fn=<MeanBackward0>),\n",
              "  tensor(0.0431, grad_fn=<MeanBackward0>),\n",
              "  tensor(0.0427, grad_fn=<MeanBackward0>),\n",
              "  tensor(0.0424, grad_fn=<MeanBackward0>),\n",
              "  tensor(0.0420, grad_fn=<MeanBackward0>),\n",
              "  tensor(0.0417, grad_fn=<MeanBackward0>),\n",
              "  tensor(0.0413, grad_fn=<MeanBackward0>),\n",
              "  tensor(0.0410, grad_fn=<MeanBackward0>),\n",
              "  tensor(0.0406, grad_fn=<MeanBackward0>),\n",
              "  tensor(0.0403, grad_fn=<MeanBackward0>),\n",
              "  tensor(0.0399, grad_fn=<MeanBackward0>),\n",
              "  tensor(0.0396, grad_fn=<MeanBackward0>),\n",
              "  tensor(0.0392, grad_fn=<MeanBackward0>),\n",
              "  tensor(0.0389, grad_fn=<MeanBackward0>),\n",
              "  tensor(0.0385, grad_fn=<MeanBackward0>),\n",
              "  tensor(0.0382, grad_fn=<MeanBackward0>),\n",
              "  tensor(0.0379, grad_fn=<MeanBackward0>),\n",
              "  tensor(0.0375, grad_fn=<MeanBackward0>),\n",
              "  tensor(0.0372, grad_fn=<MeanBackward0>),\n",
              "  tensor(0.0368, grad_fn=<MeanBackward0>),\n",
              "  tensor(0.0365, grad_fn=<MeanBackward0>),\n",
              "  tensor(0.0361, grad_fn=<MeanBackward0>),\n",
              "  tensor(0.0358, grad_fn=<MeanBackward0>),\n",
              "  tensor(0.0354, grad_fn=<MeanBackward0>),\n",
              "  tensor(0.0351, grad_fn=<MeanBackward0>),\n",
              "  tensor(0.0348, grad_fn=<MeanBackward0>),\n",
              "  tensor(0.0344, grad_fn=<MeanBackward0>),\n",
              "  tensor(0.0341, grad_fn=<MeanBackward0>),\n",
              "  tensor(0.0337, grad_fn=<MeanBackward0>),\n",
              "  tensor(0.0334, grad_fn=<MeanBackward0>),\n",
              "  tensor(0.0330, grad_fn=<MeanBackward0>),\n",
              "  tensor(0.0327, grad_fn=<MeanBackward0>),\n",
              "  tensor(0.0324, grad_fn=<MeanBackward0>),\n",
              "  tensor(0.0320, grad_fn=<MeanBackward0>),\n",
              "  tensor(0.0317, grad_fn=<MeanBackward0>),\n",
              "  tensor(0.0313, grad_fn=<MeanBackward0>),\n",
              "  tensor(0.0310, grad_fn=<MeanBackward0>),\n",
              "  tensor(0.0306, grad_fn=<MeanBackward0>),\n",
              "  tensor(0.0303, grad_fn=<MeanBackward0>),\n",
              "  tensor(0.0300, grad_fn=<MeanBackward0>),\n",
              "  tensor(0.0296, grad_fn=<MeanBackward0>),\n",
              "  tensor(0.0293, grad_fn=<MeanBackward0>),\n",
              "  tensor(0.0289, grad_fn=<MeanBackward0>),\n",
              "  tensor(0.0286, grad_fn=<MeanBackward0>),\n",
              "  tensor(0.0282, grad_fn=<MeanBackward0>),\n",
              "  tensor(0.0279, grad_fn=<MeanBackward0>),\n",
              "  tensor(0.0275, grad_fn=<MeanBackward0>),\n",
              "  tensor(0.0272, grad_fn=<MeanBackward0>),\n",
              "  tensor(0.0269, grad_fn=<MeanBackward0>),\n",
              "  tensor(0.0265, grad_fn=<MeanBackward0>),\n",
              "  tensor(0.0262, grad_fn=<MeanBackward0>),\n",
              "  tensor(0.0258, grad_fn=<MeanBackward0>),\n",
              "  tensor(0.0255, grad_fn=<MeanBackward0>),\n",
              "  tensor(0.0251, grad_fn=<MeanBackward0>),\n",
              "  tensor(0.0248, grad_fn=<MeanBackward0>)],\n",
              " [tensor(0.4811),\n",
              "  tensor(0.4676),\n",
              "  tensor(0.4541),\n",
              "  tensor(0.4407),\n",
              "  tensor(0.4272),\n",
              "  tensor(0.4137),\n",
              "  tensor(0.4002),\n",
              "  tensor(0.3868),\n",
              "  tensor(0.3733),\n",
              "  tensor(0.3598),\n",
              "  tensor(0.3464),\n",
              "  tensor(0.3329),\n",
              "  tensor(0.3194),\n",
              "  tensor(0.3059),\n",
              "  tensor(0.2925),\n",
              "  tensor(0.2790),\n",
              "  tensor(0.2655),\n",
              "  tensor(0.2521),\n",
              "  tensor(0.2396),\n",
              "  tensor(0.2282),\n",
              "  tensor(0.2173),\n",
              "  tensor(0.2070),\n",
              "  tensor(0.1977),\n",
              "  tensor(0.1891),\n",
              "  tensor(0.1810),\n",
              "  tensor(0.1735),\n",
              "  tensor(0.1667),\n",
              "  tensor(0.1604),\n",
              "  tensor(0.1547),\n",
              "  tensor(0.1497),\n",
              "  tensor(0.1446),\n",
              "  tensor(0.1402),\n",
              "  tensor(0.1365),\n",
              "  tensor(0.1327),\n",
              "  tensor(0.1290),\n",
              "  tensor(0.1258),\n",
              "  tensor(0.1227),\n",
              "  tensor(0.1203),\n",
              "  tensor(0.1178),\n",
              "  tensor(0.1154),\n",
              "  tensor(0.1136),\n",
              "  tensor(0.1118),\n",
              "  tensor(0.1100),\n",
              "  tensor(0.1083),\n",
              "  tensor(0.1065),\n",
              "  tensor(0.1047),\n",
              "  tensor(0.1036),\n",
              "  tensor(0.1025),\n",
              "  tensor(0.1014),\n",
              "  tensor(0.1003),\n",
              "  tensor(0.0992),\n",
              "  tensor(0.0981),\n",
              "  tensor(0.0970),\n",
              "  tensor(0.0959),\n",
              "  tensor(0.0948),\n",
              "  tensor(0.0937),\n",
              "  tensor(0.0926),\n",
              "  tensor(0.0915),\n",
              "  tensor(0.0904),\n",
              "  tensor(0.0893),\n",
              "  tensor(0.0889),\n",
              "  tensor(0.0878),\n",
              "  tensor(0.0867),\n",
              "  tensor(0.0862),\n",
              "  tensor(0.0851),\n",
              "  tensor(0.0847),\n",
              "  tensor(0.0836),\n",
              "  tensor(0.0832),\n",
              "  tensor(0.0821),\n",
              "  tensor(0.0810),\n",
              "  tensor(0.0806),\n",
              "  tensor(0.0795),\n",
              "  tensor(0.0791),\n",
              "  tensor(0.0780),\n",
              "  tensor(0.0776),\n",
              "  tensor(0.0765),\n",
              "  tensor(0.0754),\n",
              "  tensor(0.0749),\n",
              "  tensor(0.0738),\n",
              "  tensor(0.0734),\n",
              "  tensor(0.0723),\n",
              "  tensor(0.0719),\n",
              "  tensor(0.0708),\n",
              "  tensor(0.0704),\n",
              "  tensor(0.0693),\n",
              "  tensor(0.0682),\n",
              "  tensor(0.0678),\n",
              "  tensor(0.0667),\n",
              "  tensor(0.0663),\n",
              "  tensor(0.0652),\n",
              "  tensor(0.0647),\n",
              "  tensor(0.0636),\n",
              "  tensor(0.0625),\n",
              "  tensor(0.0621),\n",
              "  tensor(0.0610),\n",
              "  tensor(0.0606),\n",
              "  tensor(0.0595),\n",
              "  tensor(0.0591),\n",
              "  tensor(0.0580),\n",
              "  tensor(0.0569)])"
            ]
          },
          "metadata": {},
          "execution_count": 18
        }
      ]
    },
    {
      "cell_type": "code",
      "source": [
        "import numpy as np\n",
        "\n",
        "plt.plot(epoch_count, np.array(torch.tensor(train_loss_values).numpy()), label = 'Train loss')\n",
        "plt.plot(epoch_count, test_loss_values, label = 'Test loss')\n",
        "plt.title(\"Training and Test loss curves\")\n",
        "plt.ylabel(\"Loss\")\n",
        "plt.xlabel(\"Epochs\")\n",
        "plt.legend()"
      ],
      "metadata": {
        "colab": {
          "base_uri": "https://localhost:8080/",
          "height": 489
        },
        "id": "TJB_AeJ50kOv",
        "outputId": "b58fdab0-3e14-4829-977c-52addf079160"
      },
      "execution_count": 19,
      "outputs": [
        {
          "output_type": "execute_result",
          "data": {
            "text/plain": [
              "<matplotlib.legend.Legend at 0x7d312e6ca980>"
            ]
          },
          "metadata": {},
          "execution_count": 19
        },
        {
          "output_type": "display_data",
          "data": {
            "text/plain": [
              "<Figure size 640x480 with 1 Axes>"
            ],
            "image/png": "[encoded data removed]"
          },
          "metadata": {}
        }
      ]
    },
    {
      "cell_type": "markdown",
      "source": [
        "### Saving a model in PyTorch\n",
        "\n",
        "therte are three main methods you should know about for saving and loading models in PyTorch.\n",
        "1. `torch.save()` - allows you save a PyTorch object in Python's pickle format\n",
        "2. `torch.load()` - allo9ws you load a saved PyTorch object\n",
        "3. `torch.nn.Module.load_state_dict()` - this allows to load a model's saved state dictionary"
      ],
      "metadata": {
        "id": "NQuKACki2Jq3"
      }
    },
    {
      "cell_type": "code",
      "source": [
        "# Saving our PyTorch model\n",
        "from pathlib import Path\n",
        "\n",
        "# 1. create models directory\n",
        "MODEL_PATH = Path(\"models\")\n",
        "MODEL_PATH.mkdir(parents = True, exist_ok=True)\n",
        "\n",
        "# 2. Create model save path\n",
        "MODEL_NAME = \"01_pytorch_workflow_model_0.pth\"\n",
        "MODEL_SAVE_PATH = MODEL_PATH / MODEL_NAME\n",
        "\n",
        "# 3. Save the model state dict\n",
        "print(f\"Saving model to: {MODEL_SAVE_PATH}\")\n",
        "torch.save(obj = model_0.state_dict(),\n",
        "           f = MODEL_SAVE_PATH)"
      ],
      "metadata": {
        "colab": {
          "base_uri": "https://localhost:8080/"
        },
        "id": "YqHckk4M3RNI",
        "outputId": "77c05c77-8f94-4680-94eb-9384d0d3fcbb"
      },
      "execution_count": 20,
      "outputs": [
        {
          "output_type": "stream",
          "name": "stdout",
          "text": [
            "Saving model to: models/01_pytorch_workflow_model_0.pth\n"
          ]
        }
      ]
    },
    {
      "cell_type": "code",
      "source": [
        "!ls -l models"
      ],
      "metadata": {
        "colab": {
          "base_uri": "https://localhost:8080/"
        },
        "id": "9YjK-8LL5ICl",
        "outputId": "b04a928c-9890-46f0-b41e-9e050e101e6c"
      },
      "execution_count": 21,
      "outputs": [
        {
          "output_type": "stream",
          "name": "stdout",
          "text": [
            "total 4\n",
            "-rw-r--r-- 1 root root 1680 May  3 15:24 01_pytorch_workflow_model_0.pth\n"
          ]
        }
      ]
    },
    {
      "cell_type": "markdown",
      "source": [
        "## Loading a PyTorch model\n",
        "\n",
        "Since we saved our model's `state_dict()` rather the entire model, we'll create a new instance of our model class and load the saved `state_dict()` into that."
      ],
      "metadata": {
        "id": "qmxvTDN95b7e"
      }
    },
    {
      "cell_type": "code",
      "source": [
        "model_0.state_dict()"
      ],
      "metadata": {
        "colab": {
          "base_uri": "https://localhost:8080/"
        },
        "id": "ziNMNgMT6oHQ",
        "outputId": "d29b596f-03f6-4eab-9ed3-8dcb20b820ef"
      },
      "execution_count": 22,
      "outputs": [
        {
          "output_type": "execute_result",
          "data": {
            "text/plain": [
              "OrderedDict([('weight', tensor([0.5784])), ('bias', tensor([0.3513]))])"
            ]
          },
          "metadata": {},
          "execution_count": 22
        }
      ]
    },
    {
      "cell_type": "code",
      "source": [
        "# To load in a saved state_dict we have to instantiate a new instance of our model class\n",
        "loaded_model_0 = LinearRegressionModel()\n",
        "\n",
        "# Load the saved state_dict of model_0 (this will update the new instance with updated parameters)\n",
        "\n",
        "# since LinearregressionModule() is a subclass of \"nn.Module\", we can directly call \".load_state_dict()\" with loaded_model_0\n",
        "loaded_model_0.load_state_dict(torch.load(f = MODEL_SAVE_PATH))"
      ],
      "metadata": {
        "colab": {
          "base_uri": "https://localhost:8080/"
        },
        "id": "H0KUqMoy6tAW",
        "outputId": "fe1029aa-d5bb-493a-cdce-31b820d72dc7"
      },
      "execution_count": 23,
      "outputs": [
        {
          "output_type": "execute_result",
          "data": {
            "text/plain": [
              "<All keys matched successfully>"
            ]
          },
          "metadata": {},
          "execution_count": 23
        }
      ]
    },
    {
      "cell_type": "code",
      "source": [
        "loaded_model_0.state_dict()"
      ],
      "metadata": {
        "colab": {
          "base_uri": "https://localhost:8080/"
        },
        "id": "T6GwoevM7mAe",
        "outputId": "35ac3c5d-4a8b-47e7-a2e5-7f0fd1872d91"
      },
      "execution_count": 24,
      "outputs": [
        {
          "output_type": "execute_result",
          "data": {
            "text/plain": [
              "OrderedDict([('weight', tensor([0.5784])), ('bias', tensor([0.3513]))])"
            ]
          },
          "metadata": {},
          "execution_count": 24
        }
      ]
    },
    {
      "cell_type": "code",
      "source": [
        "# Make some predictions with our loaded model\n",
        "loaded_model_0.eval()\n",
        "with torch.inference_mode():\n",
        "  loaded_model_preds = loaded_model_0(X_test)\n",
        "\n",
        "loaded_model_preds"
      ],
      "metadata": {
        "colab": {
          "base_uri": "https://localhost:8080/"
        },
        "id": "kTZJSE3m7tu2",
        "outputId": "6259539c-cf60-4274-8484-66e568894567"
      },
      "execution_count": 25,
      "outputs": [
        {
          "output_type": "execute_result",
          "data": {
            "text/plain": [
              "tensor([[0.8141],\n",
              "        [0.8256],\n",
              "        [0.8372],\n",
              "        [0.8488],\n",
              "        [0.8603],\n",
              "        [0.8719],\n",
              "        [0.8835],\n",
              "        [0.8950],\n",
              "        [0.9066],\n",
              "        [0.9182]])"
            ]
          },
          "metadata": {},
          "execution_count": 25
        }
      ]
    },
    {
      "cell_type": "markdown",
      "source": [
        "### 6. Putting it all together\n",
        "\n",
        "Let's go back through the steps above and see it all in one place."
      ],
      "metadata": {
        "id": "c_IIIQ7lZ-Ug"
      }
    },
    {
      "cell_type": "code",
      "source": [
        "# Import PyTorch and matplotlib\n",
        "import torch\n",
        "from torch import nn\n",
        "import matplotlib.pyplot as plt\n",
        "\n",
        "# check PyTorch version\n",
        "torch.__version__"
      ],
      "metadata": {
        "colab": {
          "base_uri": "https://localhost:8080/",
          "height": 36
        },
        "id": "3YTSjsMma2LY",
        "outputId": "619d3e2d-b2f4-4807-98ac-11a5fced8cf9"
      },
      "execution_count": 26,
      "outputs": [
        {
          "output_type": "execute_result",
          "data": {
            "text/plain": [
              "'2.2.1+cu121'"
            ],
            "application/vnd.google.colaboratory.intrinsic+json": {
              "type": "string"
            }
          },
          "metadata": {},
          "execution_count": 26
        }
      ]
    },
    {
      "cell_type": "markdown",
      "source": [
        "Create device-agnostic code.\n",
        "\n",
        "This means if we've got access to a GPU, our code will use it(for potentially faster computing).\n",
        "\n",
        "if no GPU is available, the code will default to using CPU"
      ],
      "metadata": {
        "id": "gKkqkoMsbJeA"
      }
    },
    {
      "cell_type": "code",
      "source": [
        "# Setup device agnostic code\n",
        "device = 'cuda' if torch.cuda.is_available() else 'cpu'\n",
        "print(f'Using device: {device}')"
      ],
      "metadata": {
        "colab": {
          "base_uri": "https://localhost:8080/"
        },
        "id": "7G3IYDI-bx44",
        "outputId": "eeeb7827-f60e-4cf8-9faf-44740f5ce1f0"
      },
      "execution_count": 27,
      "outputs": [
        {
          "output_type": "stream",
          "name": "stdout",
          "text": [
            "Using device: cuda\n"
          ]
        }
      ]
    },
    {
      "cell_type": "markdown",
      "source": [
        "### 6.1 Data"
      ],
      "metadata": {
        "id": "FPSBiRBbcUCe"
      }
    },
    {
      "cell_type": "code",
      "source": [
        "# Create some data using the linear regression formula of y = weight * X + bias\n",
        "weight = 0.7\n",
        "bias = 0.3\n",
        "\n",
        "# Create range values\n",
        "start = 0\n",
        "end = 1\n",
        "step = 0.02\n",
        "\n",
        "# Create X and y (features and labels)\n",
        "X = torch.arange(start,end,step).unsqueeze(dim=1) # without unsqueeze, errors will pop up\n",
        "y = weight * X + bias\n",
        "X[:10], y[:10]"
      ],
      "metadata": {
        "colab": {
          "base_uri": "https://localhost:8080/"
        },
        "id": "hnr-OC8tcdwn",
        "outputId": "984a4c88-b32d-4eb2-83c0-09e3d2333a5c"
      },
      "execution_count": 28,
      "outputs": [
        {
          "output_type": "execute_result",
          "data": {
            "text/plain": [
              "(tensor([[0.0000],\n",
              "         [0.0200],\n",
              "         [0.0400],\n",
              "         [0.0600],\n",
              "         [0.0800],\n",
              "         [0.1000],\n",
              "         [0.1200],\n",
              "         [0.1400],\n",
              "         [0.1600],\n",
              "         [0.1800]]),\n",
              " tensor([[0.3000],\n",
              "         [0.3140],\n",
              "         [0.3280],\n",
              "         [0.3420],\n",
              "         [0.3560],\n",
              "         [0.3700],\n",
              "         [0.3840],\n",
              "         [0.3980],\n",
              "         [0.4120],\n",
              "         [0.4260]]))"
            ]
          },
          "metadata": {},
          "execution_count": 28
        }
      ]
    },
    {
      "cell_type": "code",
      "source": [
        "# Split data\n",
        "train_split = int(0.8*len(X))\n",
        "\n",
        "X_train,y_train = X[:train_split], y[:train_split]\n",
        "X_test, y_test = X[train_split:], y[train_split:]"
      ],
      "metadata": {
        "id": "l0c4mJ9yfa1F"
      },
      "execution_count": 29,
      "outputs": []
    },
    {
      "cell_type": "code",
      "source": [
        "# Plot the data\n",
        "# Note: if you don't have the plot_predictions() function loaded, this will error\n",
        "plot_predictions(X_train,y_train,X_test,y_test)"
      ],
      "metadata": {
        "colab": {
          "base_uri": "https://localhost:8080/",
          "height": 599
        },
        "id": "5evqF6f8gLo1",
        "outputId": "89c5a6ae-655a-4476-c8ae-b6f1f616aca2"
      },
      "execution_count": 30,
      "outputs": [
        {
          "output_type": "display_data",
          "data": {
            "text/plain": [
              "<Figure size 1000x700 with 1 Axes>"
            ],
            "image/png": "[encoded data removed]"
          },
          "metadata": {}
        }
      ]
    },
    {
      "cell_type": "markdown",
      "source": [
        "### 6.2 Building a PyTorch Linear model"
      ],
      "metadata": {
        "id": "m-m1AsJXgtQf"
      }
    },
    {
      "cell_type": "code",
      "source": [
        "# Create a linear model by subclassing nn.Module\n",
        "class LinearRegressionModelV2(nn.Module):\n",
        "  def __init__(self):\n",
        "    super().__init__()\n",
        "    # Use nn.Linear() for creating the model parameters / also called: Linear transform, probing layer, fully connected layer, dense layer\n",
        "    self.linear_layer = nn.Linear(in_features = 1,\n",
        "                                  out_features = 1)\n",
        "\n",
        "  def forward(self, x : torch.Tensor) -> torch.Tensor:\n",
        "    return self.linear_layer(x)\n",
        "\n",
        "# Set the manual_seed\n",
        "torch.manual_seed(42)\n",
        "model_1 = LinearRegressionModelV2()\n",
        "model_1, model_1.state_dict()"
      ],
      "metadata": {
        "colab": {
          "base_uri": "https://localhost:8080/"
        },
        "id": "VCHwuWAzg51-",
        "outputId": "51e76e80-2acd-47a8-b4e0-7f8401f1fb36"
      },
      "execution_count": 31,
      "outputs": [
        {
          "output_type": "execute_result",
          "data": {
            "text/plain": [
              "(LinearRegressionModelV2(\n",
              "   (linear_layer): Linear(in_features=1, out_features=1, bias=True)\n",
              " ),\n",
              " OrderedDict([('linear_layer.weight', tensor([[0.7645]])),\n",
              "              ('linear_layer.bias', tensor([0.8300]))]))"
            ]
          },
          "metadata": {},
          "execution_count": 31
        }
      ]
    },
    {
      "cell_type": "code",
      "source": [
        "# Check the model current device\n",
        "next(model_1.parameters()).device"
      ],
      "metadata": {
        "colab": {
          "base_uri": "https://localhost:8080/"
        },
        "id": "59txwv2NDu68",
        "outputId": "f66ce3fb-ccfe-4623-ecd7-4c46ff07883f"
      },
      "execution_count": 32,
      "outputs": [
        {
          "output_type": "execute_result",
          "data": {
            "text/plain": [
              "device(type='cpu')"
            ]
          },
          "metadata": {},
          "execution_count": 32
        }
      ]
    },
    {
      "cell_type": "code",
      "source": [
        "# Set the model to use the target device\n",
        "model_1.to(device)\n",
        "next(model_1.parameters()).device"
      ],
      "metadata": {
        "colab": {
          "base_uri": "https://localhost:8080/"
        },
        "id": "HCJgDJc3Dqc9",
        "outputId": "37cfc48d-406d-4d49-9d52-3f3a9d534c85"
      },
      "execution_count": 33,
      "outputs": [
        {
          "output_type": "execute_result",
          "data": {
            "text/plain": [
              "device(type='cuda', index=0)"
            ]
          },
          "metadata": {},
          "execution_count": 33
        }
      ]
    },
    {
      "cell_type": "markdown",
      "source": [
        "### 6.3 Training\n",
        "\n",
        "For training we need:\n",
        "* Loss function\n",
        "* Optimizer\n",
        "* Training loop\n",
        "* Testing loop"
      ],
      "metadata": {
        "id": "NShLQKeoEAP_"
      }
    },
    {
      "cell_type": "code",
      "source": [
        "# Setup loss function\n",
        "loss_fn = nn.L1Loss() # same as MAE\n",
        "\n",
        "# Setup our optimizer\n",
        "optimizer = torch.optim.SGD(params = model_1.parameters(),\n",
        "                            lr = 0.01)"
      ],
      "metadata": {
        "id": "Wa7pCWTTEMdZ"
      },
      "execution_count": 34,
      "outputs": []
    },
    {
      "cell_type": "code",
      "source": [
        "# Let's write a training loop\n",
        "torch.manual_seed(42)\n",
        "\n",
        "epochs = 200\n",
        "\n",
        "# put data on the target device (device agnostic code for data)\n",
        "X_train = X_train.to(device)\n",
        "X_test = X_test.to(device)\n",
        "y_train = y_train.to(device)\n",
        "y_test = y_test.to(device)\n",
        "\n",
        "for epoch in range(epochs):\n",
        "  model_1.train()\n",
        "\n",
        "  # 1. Forward pass\n",
        "  y_pred = model_1(X_train)\n",
        "\n",
        "  # 2. Calculate the loss\n",
        "  loss = loss_fn(y_pred, y_train)\n",
        "\n",
        "  # 3. Optimizer zero grad\n",
        "  optimizer.zero_grad()\n",
        "\n",
        "  # 4. Perform backpropagation\n",
        "  loss.backward()\n",
        "\n",
        "  # 5. Optimizer step\n",
        "  optimizer.step()\n",
        "\n",
        "  ### Testing\n",
        "  model_1.eval()\n",
        "  with torch.inference_mode():\n",
        "    test_pred = model_1(X_test)\n",
        "\n",
        "    test_loss = loss_fn(test_pred, y_test)\n",
        "\n",
        "  # print out what's happenin'\n",
        "  if epoch % 10 == 0:\n",
        "    print(f'Epoch: {epoch} | Loss: {loss} | Test loss: {test_loss}')"
      ],
      "metadata": {
        "colab": {
          "base_uri": "https://localhost:8080/"
        },
        "id": "8jV-5vFzEd__",
        "outputId": "6801ddb3-af35-4a72-a8d9-7844854a48ce"
      },
      "execution_count": 37,
      "outputs": [
        {
          "output_type": "stream",
          "name": "stdout",
          "text": [
            "Epoch: 0 | Loss: 0.5551779866218567 | Test loss: 0.5739762187004089\n",
            "Epoch: 10 | Loss: 0.439968079328537 | Test loss: 0.4392664134502411\n",
            "Epoch: 20 | Loss: 0.3247582018375397 | Test loss: 0.30455657839775085\n",
            "Epoch: 30 | Loss: 0.20954833924770355 | Test loss: 0.16984669864177704\n",
            "Epoch: 40 | Loss: 0.09433845430612564 | Test loss: 0.03513690456748009\n",
            "Epoch: 50 | Loss: 0.023886388167738914 | Test loss: 0.04784907028079033\n",
            "Epoch: 60 | Loss: 0.019956795498728752 | Test loss: 0.045803118497133255\n",
            "Epoch: 70 | Loss: 0.016517987474799156 | Test loss: 0.037530567497015\n",
            "Epoch: 80 | Loss: 0.013089174404740334 | Test loss: 0.02994490973651409\n",
            "Epoch: 90 | Loss: 0.009653178043663502 | Test loss: 0.02167237363755703\n",
            "Epoch: 100 | Loss: 0.006215683650225401 | Test loss: 0.014086711220443249\n",
            "Epoch: 110 | Loss: 0.00278724217787385 | Test loss: 0.005814164876937866\n",
            "Epoch: 120 | Loss: 0.0012645035749301314 | Test loss: 0.013801801018416882\n",
            "Epoch: 130 | Loss: 0.0012645035749301314 | Test loss: 0.013801801018416882\n",
            "Epoch: 140 | Loss: 0.0012645035749301314 | Test loss: 0.013801801018416882\n",
            "Epoch: 150 | Loss: 0.0012645035749301314 | Test loss: 0.013801801018416882\n",
            "Epoch: 160 | Loss: 0.0012645035749301314 | Test loss: 0.013801801018416882\n",
            "Epoch: 170 | Loss: 0.0012645035749301314 | Test loss: 0.013801801018416882\n",
            "Epoch: 180 | Loss: 0.0012645035749301314 | Test loss: 0.013801801018416882\n",
            "Epoch: 190 | Loss: 0.0012645035749301314 | Test loss: 0.013801801018416882\n"
          ]
        }
      ]
    },
    {
      "cell_type": "code",
      "source": [
        "model_1.state_dict()"
      ],
      "metadata": {
        "colab": {
          "base_uri": "https://localhost:8080/"
        },
        "id": "ggmL5mUfGRZf",
        "outputId": "782762cf-b760-45c4-b962-ed7ce70845d0"
      },
      "execution_count": 40,
      "outputs": [
        {
          "output_type": "execute_result",
          "data": {
            "text/plain": [
              "OrderedDict([('linear_layer.weight', tensor([[0.6968]], device='cuda:0')),\n",
              "             ('linear_layer.bias', tensor([0.3025], device='cuda:0'))])"
            ]
          },
          "metadata": {},
          "execution_count": 40
        }
      ]
    },
    {
      "cell_type": "markdown",
      "source": [
        "### 6.4 Making and evaluating mode"
      ],
      "metadata": {
        "id": "rdvIcUDyHQtD"
      }
    },
    {
      "cell_type": "code",
      "source": [
        "# Turn model into evaluation mode\n",
        "model_1.eval()\n",
        "\n",
        "# Make preditions on the test data\n",
        "with torch.inference_mode():\n",
        "  y_preds = model_1(X_test)\n",
        "y_preds"
      ],
      "metadata": {
        "colab": {
          "base_uri": "https://localhost:8080/"
        },
        "id": "mwflCsyTHU2e",
        "outputId": "f504cbee-5dd6-42ce-ed3b-a71a9906df10"
      },
      "execution_count": 41,
      "outputs": [
        {
          "output_type": "execute_result",
          "data": {
            "text/plain": [
              "tensor([[0.8600],\n",
              "        [0.8739],\n",
              "        [0.8878],\n",
              "        [0.9018],\n",
              "        [0.9157],\n",
              "        [0.9296],\n",
              "        [0.9436],\n",
              "        [0.9575],\n",
              "        [0.9714],\n",
              "        [0.9854]], device='cuda:0')"
            ]
          },
          "metadata": {},
          "execution_count": 41
        }
      ]
    },
    {
      "cell_type": "code",
      "source": [
        "# Check out our model predictions visually\n",
        "plot_predictions(predictions = y_preds.cpu()) # since the tensors are on the CUDA, and matplotlib works with numpy on CPU, we should use `<CUDA Tensor>.cpu()`."
      ],
      "metadata": {
        "colab": {
          "base_uri": "https://localhost:8080/",
          "height": 599
        },
        "id": "Y2_XhMDiHn2T",
        "outputId": "37eb91e1-213e-46bf-a420-8375e3335d02"
      },
      "execution_count": 46,
      "outputs": [
        {
          "output_type": "display_data",
          "data": {
            "text/plain": [
              "<Figure size 1000x700 with 1 Axes>"
            ],
            "image/png": "[encoded data removed]"
          },
          "metadata": {}
        }
      ]
    },
    {
      "cell_type": "markdown",
      "source": [
        "### 6.5 Saving & loading a trained model"
      ],
      "metadata": {
        "id": "BZpUyOpUIZ4D"
      }
    },
    {
      "cell_type": "code",
      "source": [
        "from pathlib import Path\n",
        "\n",
        "# 1. Create models directory\n",
        "MODEL_PATH = Path(\"models\")\n",
        "MODEL_PATH.mkdir(parents = True, exist_ok = True)\n",
        "\n",
        "# 2. Create mode save path\n",
        "MODEL_NAME = \"01_pytorch_workflow_model_1.pth\"\n",
        "MODEL_SAVE_PATH = MODEL_PATH / MODEL_NAME\n",
        "\n",
        "# 3. Save the model state dict\n",
        "print(f\"Saving modelto: {MODEL_SAVE_PATH}\")\n",
        "torch.save(obj = model_1.state_dict(),\n",
        "           f = MODEL_SAVE_PATH)"
      ],
      "metadata": {
        "colab": {
          "base_uri": "https://localhost:8080/"
        },
        "id": "FcJ22NJaIhu_",
        "outputId": "d1e8ccd7-f829-46d2-f742-29d370be8531"
      },
      "execution_count": 49,
      "outputs": [
        {
          "output_type": "stream",
          "name": "stdout",
          "text": [
            "Saving modelto: models/01_pytorch_workflow_model_1.pth\n"
          ]
        }
      ]
    },
    {
      "cell_type": "code",
      "source": [
        "# Load a PyTorch\n",
        "\n",
        "# Create a nwe instance of linear regression model V2\n",
        "loaded_model_1 = LinearRegressionModelV2()\n",
        "\n",
        "# Load the saved model_1 state_dict\n",
        "loaded_model_1.load_state_dict(torch.load(MODEL_SAVE_PATH))\n",
        "\n",
        "# Put the loaded model to device\n",
        "loaded_model_1.to(device)"
      ],
      "metadata": {
        "colab": {
          "base_uri": "https://localhost:8080/"
        },
        "id": "IYhf6n5aJhFu",
        "outputId": "5be3580a-0146-4e8d-c55e-9b69d8a894e8"
      },
      "execution_count": 50,
      "outputs": [
        {
          "output_type": "execute_result",
          "data": {
            "text/plain": [
              "LinearRegressionModelV2(\n",
              "  (linear_layer): Linear(in_features=1, out_features=1, bias=True)\n",
              ")"
            ]
          },
          "metadata": {},
          "execution_count": 50
        }
      ]
    },
    {
      "cell_type": "code",
      "source": [
        "next(loaded_model_1.parameters()).device"
      ],
      "metadata": {
        "colab": {
          "base_uri": "https://localhost:8080/"
        },
        "id": "77P-1Zy9KXiZ",
        "outputId": "f323565f-d752-4b3f-dde8-a72ffc3abf41"
      },
      "execution_count": 51,
      "outputs": [
        {
          "output_type": "execute_result",
          "data": {
            "text/plain": [
              "device(type='cuda', index=0)"
            ]
          },
          "metadata": {},
          "execution_count": 51
        }
      ]
    },
    {
      "cell_type": "code",
      "source": [
        "loaded_model_1.state_dict()"
      ],
      "metadata": {
        "colab": {
          "base_uri": "https://localhost:8080/"
        },
        "id": "AxRntIZBKdxD",
        "outputId": "70ce9b48-3b5b-4b61-e96c-422aa6e6df98"
      },
      "execution_count": 52,
      "outputs": [
        {
          "output_type": "execute_result",
          "data": {
            "text/plain": [
              "OrderedDict([('linear_layer.weight', tensor([[0.6968]], device='cuda:0')),\n",
              "             ('linear_layer.bias', tensor([0.3025], device='cuda:0'))])"
            ]
          },
          "metadata": {},
          "execution_count": 52
        }
      ]
    },
    {
      "cell_type": "code",
      "source": [
        "# Evaluate loaded model\n",
        "loaded_model_1.eval()\n",
        "with torch.inference_mode():\n",
        "  loaded_model_1_preds = loaded_model_1(X_test)\n",
        "print(loaded_model_1_preds)\n",
        "y_preds == loaded_model_1_preds # checking weather the outputs of loaded and original model are same"
      ],
      "metadata": {
        "colab": {
          "base_uri": "https://localhost:8080/"
        },
        "id": "-Xawv98NKhsl",
        "outputId": "ad60c775-cee2-4147-a97f-315d83a553d4"
      },
      "execution_count": 54,
      "outputs": [
        {
          "output_type": "stream",
          "name": "stdout",
          "text": [
            "tensor([[0.8600],\n",
            "        [0.8739],\n",
            "        [0.8878],\n",
            "        [0.9018],\n",
            "        [0.9157],\n",
            "        [0.9296],\n",
            "        [0.9436],\n",
            "        [0.9575],\n",
            "        [0.9714],\n",
            "        [0.9854]], device='cuda:0')\n"
          ]
        },
        {
          "output_type": "execute_result",
          "data": {
            "text/plain": [
              "tensor([[True],\n",
              "        [True],\n",
              "        [True],\n",
              "        [True],\n",
              "        [True],\n",
              "        [True],\n",
              "        [True],\n",
              "        [True],\n",
              "        [True],\n",
              "        [True]], device='cuda:0')"
            ]
          },
          "metadata": {},
          "execution_count": 54
        }
      ]
    },
    {
      "cell_type": "markdown",
      "source": [
        "## Exercises & Extra_curriculum"
      ],
      "metadata": {
        "id": "nFw64JNXMD5T"
      }
    }
  ]
}